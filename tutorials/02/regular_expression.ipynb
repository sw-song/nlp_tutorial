{
 "cells": [
  {
   "cell_type": "markdown",
   "metadata": {},
   "source": [
    ">toc\n",
    "```\n",
    "Step 1. Compile Pattern\n",
    "Step 2. Load Dataset\n",
    "Step 3. Findall()\n",
    "     3-1. Usage\n",
    "     3-2. Extract Target Words\n",
    "     3-3. Extract Target Sentences\n",
    "```"
   ]
  },
  {
   "cell_type": "markdown",
   "metadata": {},
   "source": [
    "## Step 1. Compile Pattern"
   ]
  },
  {
   "cell_type": "code",
   "execution_count": 69,
   "metadata": {},
   "outputs": [
    {
     "data": {
      "text/plain": [
       "re.compile(r'[가-힣0-9 ]+', re.UNICODE)"
      ]
     },
     "execution_count": 69,
     "metadata": {},
     "output_type": "execute_result"
    }
   ],
   "source": [
    "import re\n",
    "\n",
    "# 띄어쓰기, 한글, 숫자를 포함한 부분을 추출하는 정규식\n",
    "r = re.compile('[가-힣0-9 ]+')\n",
    "r"
   ]
  },
  {
   "cell_type": "markdown",
   "metadata": {},
   "source": [
    "## Step 2. Load Dataset"
   ]
  },
  {
   "cell_type": "code",
   "execution_count": 70,
   "metadata": {},
   "outputs": [
    {
     "name": "stdout",
     "output_type": "stream",
     "text": [
      "대한민국헌법\n",
      "\n",
      "유구한 역사와 전통에 빛나는 우리 대한국민은 3·1운동으로 건립된 대한민국임시정부의 법통과 불의에 항거한 4·19민주이념을 계승하고, 조국의 민주개혁과 평화적 통일의\n"
     ]
    }
   ],
   "source": [
    "from konlpy.corpus import kolaw, kobill\n",
    "\n",
    "# 헌법 말뭉치\n",
    "x_kolaw = kolaw.open('constitution.txt').read()\n",
    "print(x_kolaw[:100])"
   ]
  },
  {
   "cell_type": "markdown",
   "metadata": {},
   "source": [
    "## Step 3. Findall()"
   ]
  },
  {
   "cell_type": "markdown",
   "metadata": {},
   "source": [
    "### 3-1. Usage"
   ]
  },
  {
   "cell_type": "code",
   "execution_count": 71,
   "metadata": {},
   "outputs": [
    {
     "data": {
      "text/plain": [
       "['대한민국헌법',\n",
       " '유구한 역사와 전통에 빛나는 우리 대한국민은 3',\n",
       " '1운동으로 건립된 대한민국임시정부의 법통과 불의에 항거한 4',\n",
       " '19민주이념을 계승하고',\n",
       " ' 조국의 민주개혁과 평화적 통일의 사명에 입각하여 정의',\n",
       " '인도와 동포애로써 민족의 단결을 공고히 하고',\n",
       " ' 모든 사회적 폐습과 불의를 타파하며',\n",
       " ' 자율과 조화를 바탕으로 자유민주적 기본질서를 더욱 확고히 하여 정치',\n",
       " '경제',\n",
       " '사회']"
      ]
     },
     "execution_count": 71,
     "metadata": {},
     "output_type": "execute_result"
    }
   ],
   "source": [
    "# findall 함수는 정규식 패턴과 일치하는 문자열을 모두 찾아서 리스트로 반환\n",
    "r.findall(x_kolaw)[:10]"
   ]
  },
  {
   "cell_type": "markdown",
   "metadata": {},
   "source": [
    "### 3-2. Extract Target Words"
   ]
  },
  {
   "cell_type": "code",
   "execution_count": 72,
   "metadata": {},
   "outputs": [
    {
     "name": "stdout",
     "output_type": "stream",
     "text": [
      "['방법', '불법', '적법', '대한민국헌법', '헌법', '군사법', '각급법', '국내법', '최고법', '확정법', '선임방법', '국법', '국제법', '사법', '특별법', '입법', '소급입법', '대법']\n"
     ]
    }
   ],
   "source": [
    "# 특정 단어(OO법) 추출\n",
    "r = re.compile('[가-힣]+법')\n",
    "words = r.findall(x_kolaw)\n",
    "\n",
    "print(list(set(words))) # 중복 제거 "
   ]
  },
  {
   "cell_type": "markdown",
   "metadata": {},
   "source": [
    "### 3-3. Extract Target Sentences"
   ]
  },
  {
   "cell_type": "code",
   "execution_count": 144,
   "metadata": {},
   "outputs": [
    {
     "data": {
      "text/plain": [
       "['제1조 이 헌법은 1988년 2월 25일부터 시행한다.',\n",
       " '제3조 대한민국의 영토는 한반도와 그 부속도서로 한다.',\n",
       " '제4조 대한민국은 통일을 지향하며, 자유민주적 기본질서에 입각한 평화적 통일 정책을 수립하고 이를 추진한다.',\n",
       " '제5조 이 헌법시행 당시의 법령과 조약은 이 헌법에 위배되지 아니하는 한 그 효력을 지속한다.',\n",
       " '제6조 이 헌법시행 당시에 이 헌법에 의하여 새로 설치될 기관의 권한에 속하는 직무를 행하고 있는 기관은 이 헌법에 의하여 새로운 기관이 설치될 때까지 존속하며 그 직무를 행한다.',\n",
       " '제9조 국가는 전통문화의 계승·발전과 민족문화의 창달에 노력하여야 한다.']"
      ]
     },
     "execution_count": 144,
     "metadata": {},
     "output_type": "execute_result"
    }
   ],
   "source": [
    "# 특정 문자열(제O조 ~) 추출\n",
    "txt = re.findall('제[0-9]조 [가-힣 ,·0-9]+.\\s', x_kolaw)\n",
    "sorted([x.strip() for x in txt])"
   ]
  }
 ],
 "metadata": {
  "kernelspec": {
   "display_name": "Python 3.7.7 ('dataScience')",
   "language": "python",
   "name": "python3"
  },
  "language_info": {
   "codemirror_mode": {
    "name": "ipython",
    "version": 3
   },
   "file_extension": ".py",
   "mimetype": "text/x-python",
   "name": "python",
   "nbconvert_exporter": "python",
   "pygments_lexer": "ipython3",
   "version": "3.7.7"
  },
  "orig_nbformat": 4,
  "vscode": {
   "interpreter": {
    "hash": "946e70462398da2b7d5146f365841ff0dae0fe6e2f7c4e5ed0a8dd78c4677798"
   }
  }
 },
 "nbformat": 4,
 "nbformat_minor": 2
}
